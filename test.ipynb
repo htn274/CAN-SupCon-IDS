{
 "cells": [
  {
   "cell_type": "code",
   "execution_count": 1,
   "id": "ddb66339-59ee-4762-bc89-c7365755e2e3",
   "metadata": {},
   "outputs": [],
   "source": [
    "from dataset import CANDataset\n",
    "import torch\n",
    "from torchvision import transforms, datasets"
   ]
  },
  {
   "cell_type": "code",
   "execution_count": 2,
   "id": "99775245-06c7-441c-b8c5-8b215d232d1a",
   "metadata": {},
   "outputs": [],
   "source": [
    "train_dataset = CANDataset(\n",
    "    root_dir='../Data/TFRecord_w29_s15/1/',\n",
    "    window_size=29, is_train=True)\n",
    "# train_dataset.total_size = 1000\n",
    "train_sampler = None\n",
    "train_loader = torch.utils.data.DataLoader(\n",
    "    train_dataset, batch_size=256, shuffle=False,\n",
    "    num_workers=2, pin_memory=True, sampler=train_sampler)"
   ]
  },
  {
   "cell_type": "code",
   "execution_count": 12,
   "id": "af01c97c-a0a8-4e56-ad75-26f2029f76df",
   "metadata": {},
   "outputs": [],
   "source": [
    "val_dataset = CANDataset(\n",
    "    root_dir='../Data/TFRecord_w29_s15/1/',\n",
    "    window_size=29, is_train=False)\n",
    "val_loader = torch.utils.data.DataLoader(\n",
    "    val_dataset, batch_size=2048, shuffle=False,\n",
    "    num_workers=8, pin_memory=True, sampler=None)"
   ]
  },
  {
   "cell_type": "markdown",
   "id": "97b34f7f-4a09-47ba-83f2-d476ae525290",
   "metadata": {
    "tags": []
   },
   "source": [
    "# Baseline Model"
   ]
  },
  {
   "cell_type": "code",
   "execution_count": 15,
   "id": "8b408a51-d1ef-4650-8f08-3ebf0452014e",
   "metadata": {},
   "outputs": [],
   "source": [
    "from networks.inception import InceptionResnet\n",
    "from networks.simple_cnn import BaselineCNNClassifier"
   ]
  },
  {
   "cell_type": "code",
   "execution_count": 16,
   "id": "824f41c2-b8b6-4665-83fb-f28ef53e0bd3",
   "metadata": {},
   "outputs": [],
   "source": [
    "# model = InceptionResnet(n_classes = 5)\n",
    "baseline_model = BaselineCNNClassifier(n_classes=5)"
   ]
  },
  {
   "cell_type": "code",
   "execution_count": 18,
   "id": "9ae05a29-e11d-4070-9098-bb12b2fcfc6b",
   "metadata": {},
   "outputs": [
    {
     "data": {
      "text/plain": [
       "<All keys matched successfully>"
      ]
     },
     "execution_count": 18,
     "metadata": {},
     "output_type": "execute_result"
    }
   ],
   "source": [
    "model_path = './save/cnn_lr0.001_bs1024_032522_100842_cosine_warm/models/last.pth'\n",
    "ckpt = torch.load(model_path)\n",
    "state_dict = ckpt['model']\n",
    "baseline_model.load_state_dict(state_dict=ckpt['model'])"
   ]
  },
  {
   "cell_type": "code",
   "execution_count": 19,
   "id": "bf1e01ed-6182-4d49-a82e-394b384044ef",
   "metadata": {},
   "outputs": [
    {
     "name": "stderr",
     "output_type": "stream",
     "text": [
      " 20%|██        | 33/162 [00:13<00:47,  2.74it/s]Exception ignored in: <function _MultiProcessingDataLoaderIter.__del__ at 0x7f64bbbdb9e0>\n",
      "Traceback (most recent call last):\n",
      "  File \"/home/dhkim1/miniconda3/envs/torch/lib/python3.7/site-packages/torch/utils/data/dataloader.py\", line 1328, in __del__\n",
      "    self._shutdown_workers()\n",
      "  File \"/home/dhkim1/miniconda3/envs/torch/lib/python3.7/site-packages/torch/utils/data/dataloader.py\", line 1320, in _shutdown_workers\n",
      "    if w.is_alive():\n",
      "  File \"/home/dhkim1/miniconda3/envs/torch/lib/python3.7/multiprocessing/process.py\", line 151, in is_alive\n",
      "    assert self._parent_pid == os.getpid(), 'can only test a child process'\n",
      "AssertionError: can only test a child process\n",
      "Exception ignored in: <function _MultiProcessingDataLoaderIter.__del__ at 0x7f64bbbdb9e0>\n",
      "Traceback (most recent call last):\n",
      "  File \"/home/dhkim1/miniconda3/envs/torch/lib/python3.7/site-packages/torch/utils/data/dataloader.py\", line 1328, in __del__\n",
      "    self._shutdown_workers()\n",
      "  File \"/home/dhkim1/miniconda3/envs/torch/lib/python3.7/site-packages/torch/utils/data/dataloader.py\", line 1320, in _shutdown_workers\n",
      "    if w.is_alive():\n",
      "  File \"/home/dhkim1/miniconda3/envs/torch/lib/python3.7/multiprocessing/process.py\", line 151, in is_alive\n",
      "    assert self._parent_pid == os.getpid(), 'can only test a child process'\n",
      "AssertionError: can only test a child processException ignored in: <function _MultiProcessingDataLoaderIter.__del__ at 0x7f64bbbdb9e0>\n",
      "\n",
      "Traceback (most recent call last):\n",
      "  File \"/home/dhkim1/miniconda3/envs/torch/lib/python3.7/site-packages/torch/utils/data/dataloader.py\", line 1328, in __del__\n",
      "    self._shutdown_workers()\n",
      "  File \"/home/dhkim1/miniconda3/envs/torch/lib/python3.7/site-packages/torch/utils/data/dataloader.py\", line 1320, in _shutdown_workers\n",
      "Exception ignored in:     if w.is_alive():<function _MultiProcessingDataLoaderIter.__del__ at 0x7f64bbbdb9e0>\n",
      "\n",
      "  File \"/home/dhkim1/miniconda3/envs/torch/lib/python3.7/multiprocessing/process.py\", line 151, in is_alive\n",
      "Traceback (most recent call last):\n",
      "      File \"/home/dhkim1/miniconda3/envs/torch/lib/python3.7/site-packages/torch/utils/data/dataloader.py\", line 1328, in __del__\n",
      "assert self._parent_pid == os.getpid(), 'can only test a child process'\n",
      "    AssertionErrorself._shutdown_workers(): \n",
      "can only test a child process  File \"/home/dhkim1/miniconda3/envs/torch/lib/python3.7/site-packages/torch/utils/data/dataloader.py\", line 1320, in _shutdown_workers\n",
      "\n",
      "    if w.is_alive():\n",
      "  File \"/home/dhkim1/miniconda3/envs/torch/lib/python3.7/multiprocessing/process.py\", line 151, in is_alive\n",
      "    assert self._parent_pid == os.getpid(), 'can only test a child process'\n",
      "AssertionError: can only test a child process\n",
      " 42%|████▏     | 68/162 [00:24<00:29,  3.23it/s]Exception ignored in: <function _MultiProcessingDataLoaderIter.__del__ at 0x7f64bbbdb9e0>\n",
      "Exception ignored in: Traceback (most recent call last):\n",
      "<function _MultiProcessingDataLoaderIter.__del__ at 0x7f64bbbdb9e0>  File \"/home/dhkim1/miniconda3/envs/torch/lib/python3.7/site-packages/torch/utils/data/dataloader.py\", line 1328, in __del__\n",
      "\n",
      "Traceback (most recent call last):\n",
      "      File \"/home/dhkim1/miniconda3/envs/torch/lib/python3.7/site-packages/torch/utils/data/dataloader.py\", line 1328, in __del__\n",
      "self._shutdown_workers()\n",
      "      File \"/home/dhkim1/miniconda3/envs/torch/lib/python3.7/site-packages/torch/utils/data/dataloader.py\", line 1320, in _shutdown_workers\n",
      "self._shutdown_workers()    \n",
      "if w.is_alive():  File \"/home/dhkim1/miniconda3/envs/torch/lib/python3.7/site-packages/torch/utils/data/dataloader.py\", line 1320, in _shutdown_workers\n",
      "\n",
      "  File \"/home/dhkim1/miniconda3/envs/torch/lib/python3.7/multiprocessing/process.py\", line 151, in is_alive\n",
      "        assert self._parent_pid == os.getpid(), 'can only test a child process'if w.is_alive():\n",
      "AssertionError\n",
      ":   File \"/home/dhkim1/miniconda3/envs/torch/lib/python3.7/multiprocessing/process.py\", line 151, in is_alive\n",
      "can only test a child process\n",
      "    assert self._parent_pid == os.getpid(), 'can only test a child process'\n",
      "AssertionError: can only test a child process\n",
      "Exception ignored in: <function _MultiProcessingDataLoaderIter.__del__ at 0x7f64bbbdb9e0>\n",
      "Traceback (most recent call last):\n",
      "  File \"/home/dhkim1/miniconda3/envs/torch/lib/python3.7/site-packages/torch/utils/data/dataloader.py\", line 1328, in __del__\n",
      "    self._shutdown_workers()\n",
      "  File \"/home/dhkim1/miniconda3/envs/torch/lib/python3.7/site-packages/torch/utils/data/dataloader.py\", line 1320, in _shutdown_workers\n",
      "    if w.is_alive():\n",
      "  File \"/home/dhkim1/miniconda3/envs/torch/lib/python3.7/multiprocessing/process.py\", line 151, in is_alive\n",
      "    assert self._parent_pid == os.getpid(), 'can only test a child process'\n",
      "AssertionError: can only test a child process\n",
      "Exception ignored in: <function _MultiProcessingDataLoaderIter.__del__ at 0x7f64bbbdb9e0>\n",
      "Traceback (most recent call last):\n",
      "  File \"/home/dhkim1/miniconda3/envs/torch/lib/python3.7/site-packages/torch/utils/data/dataloader.py\", line 1328, in __del__\n",
      "    self._shutdown_workers()\n",
      "  File \"/home/dhkim1/miniconda3/envs/torch/lib/python3.7/site-packages/torch/utils/data/dataloader.py\", line 1320, in _shutdown_workers\n",
      "    if w.is_alive():\n",
      "  File \"/home/dhkim1/miniconda3/envs/torch/lib/python3.7/multiprocessing/process.py\", line 151, in is_alive\n",
      "    assert self._parent_pid == os.getpid(), 'can only test a child process'\n",
      "AssertionError: can only test a child process\n",
      "100%|██████████| 162/162 [00:53<00:00,  3.01it/s]\n"
     ]
    }
   ],
   "source": [
    "import numpy as np\n",
    "total_pred = np.array([], dtype=int)\n",
    "total_label = np.array([], dtype=int)\n",
    "\n",
    "baseline_model = baseline_model.cuda()\n",
    "baseline_model.eval()\n",
    "with torch.no_grad():\n",
    "    for images, labels in tqdm.tqdm(val_loader):\n",
    "        images = images.cuda(non_blocking=True)\n",
    "        outputs = baseline_model(images)\n",
    "        _, pred = outputs.topk(1, 1, True, True)\n",
    "        pred = pred.t().cpu().numpy().squeeze(0)\n",
    "        total_pred = np.concatenate((total_pred, pred), axis=0)\n",
    "        total_label = np.concatenate((total_label, labels), axis=0)"
   ]
  },
  {
   "cell_type": "code",
   "execution_count": 20,
   "id": "c5c9407d-07fa-476b-b13a-0d146e0ec878",
   "metadata": {},
   "outputs": [
    {
     "data": {
      "text/plain": [
       "{'fnr': array([0.00635346, 0.08747295, 0.16665375, 0.07131349, 0.07489008]),\n",
       " 'rec': array([0.99993647, 0.99912527, 0.99833346, 0.99928687, 0.9992511 ]),\n",
       " 'pre': array([0.99947242, 0.99990785, 0.99957315, 0.99981502, 0.99987913]),\n",
       " 'f1': array([0.99970439, 0.99951641, 0.99895292, 0.99955087, 0.99956502])}"
      ]
     },
     "execution_count": 20,
     "metadata": {},
     "output_type": "execute_result"
    }
   ],
   "source": [
    "from utils import cal_metric\n",
    "cm, results = cal_metric(total_label, total_pred)\n",
    "results"
   ]
  },
  {
   "cell_type": "markdown",
   "id": "f888bbf7-b255-410d-9fe7-435a13e29f19",
   "metadata": {
    "tags": []
   },
   "source": [
    "# SupCon model"
   ]
  },
  {
   "cell_type": "code",
   "execution_count": 4,
   "id": "7e9e07ba-637b-4aa1-b095-3f9ddff9511f",
   "metadata": {},
   "outputs": [],
   "source": [
    "import torch.optim as optim"
   ]
  },
  {
   "cell_type": "code",
   "execution_count": 5,
   "id": "97a5673e-29b3-4427-9e95-e96bd372bedc",
   "metadata": {},
   "outputs": [],
   "source": [
    "from networks.simple_cnn import SupConCNN, LinearClassifier\n",
    "\n",
    "model = SupConCNN(feat_dim=128)\n",
    "classifier = LinearClassifier(n_classes=5)"
   ]
  },
  {
   "cell_type": "code",
   "execution_count": 7,
   "id": "2f798662-da1f-4843-b713-d294e53189cd",
   "metadata": {},
   "outputs": [
    {
     "data": {
      "text/plain": [
       "<All keys matched successfully>"
      ]
     },
     "execution_count": 7,
     "metadata": {},
     "output_type": "execute_result"
    }
   ],
   "source": [
    "model_path = './save/SupCon_cnn_lr0.001_bs1024_032522_174259_cosine_warm/models/last.pth'\n",
    "ckpt = torch.load(model_path)\n",
    "state_dict = ckpt['model']\n",
    "model.load_state_dict(state_dict=ckpt['model'])"
   ]
  },
  {
   "cell_type": "code",
   "execution_count": 9,
   "id": "a9d338db-2fe4-4158-b26e-265409e8ac5e",
   "metadata": {},
   "outputs": [
    {
     "data": {
      "text/plain": [
       "<All keys matched successfully>"
      ]
     },
     "execution_count": 9,
     "metadata": {},
     "output_type": "execute_result"
    }
   ],
   "source": [
    "class_model_path = './save/SupCon_cnn_lr0.001_bs1024_032522_174259_cosine_warm/models/last_classifier.pth'\n",
    "ckpt = torch.load(class_model_path)\n",
    "state_dict = ckpt['model']\n",
    "classifier.load_state_dict(state_dict=state_dict)"
   ]
  },
  {
   "cell_type": "code",
   "execution_count": 13,
   "id": "7aa6d1d2-348f-4f65-b21e-afbf9fc1f075",
   "metadata": {},
   "outputs": [
    {
     "name": "stderr",
     "output_type": "stream",
     "text": [
      "100%|██████████| 162/162 [00:54<00:00,  2.99it/s]\n"
     ]
    }
   ],
   "source": [
    "import numpy as np\n",
    "import tqdm\n",
    "total_pred = np.array([], dtype=int)\n",
    "total_label = np.array([], dtype=int)\n",
    "\n",
    "model = model.cuda()\n",
    "classifier = classifier.cuda()\n",
    "model.eval()\n",
    "classifier.eval()\n",
    "with torch.no_grad():\n",
    "    for images, labels in tqdm.tqdm(val_loader):\n",
    "        images = images.cuda(non_blocking=True)\n",
    "        outputs = classifier(model.encoder(images))\n",
    "        _, pred = outputs.topk(1, 1, True, True)\n",
    "        pred = pred.t().cpu().numpy().squeeze(0)\n",
    "        total_pred = np.concatenate((total_pred, pred), axis=0)\n",
    "        total_label = np.concatenate((total_label, labels), axis=0)"
   ]
  },
  {
   "cell_type": "code",
   "execution_count": 14,
   "id": "76ae0143-cf32-4df8-9c7c-1d8b9e6b2611",
   "metadata": {},
   "outputs": [
    {
     "data": {
      "text/plain": [
       "{'fnr': array([0.00146618, 0.06445375, 0.09689171, 0.06338977, 0.06764265]),\n",
       " 'rec': array([0.99998534, 0.99935546, 0.99903108, 0.9993661 , 0.99932357]),\n",
       " 'pre': array([0.9995701 , 1.        , 0.99996121, 0.99992072, 0.99995165]),\n",
       " 'f1': array([0.99977768, 0.99967763, 0.99949593, 0.99964333, 0.99963751])}"
      ]
     },
     "execution_count": 14,
     "metadata": {},
     "output_type": "execute_result"
    }
   ],
   "source": [
    "from utils import cal_metric\n",
    "cm, results = cal_metric(total_label, total_pred)\n",
    "results"
   ]
  },
  {
   "cell_type": "code",
   "execution_count": 7,
   "id": "d032f6ad-5726-40bb-ae48-18c0c199c748",
   "metadata": {},
   "outputs": [],
   "source": [
    "def extract_embedding(model, data_loader):\n",
    "    model = model.cuda()\n",
    "    embs = torch.empty(0, 576, dtype=torch.double).cuda()\n",
    "    for data, labels in data_loader:\n",
    "        data = data.cuda()\n",
    "        with torch.no_grad():\n",
    "            feats = model.encoder(data)\n",
    "            embs = torch.cat((embs, feats), dim=0)\n",
    "    return embs"
   ]
  },
  {
   "cell_type": "code",
   "execution_count": 12,
   "id": "3950df6c-b253-4869-bcea-a25d09fd962b",
   "metadata": {},
   "outputs": [],
   "source": [
    "model = model.cuda()\n",
    "classifier = LinearClassifier(n_classes=5)\n",
    "classifier = classifier.cuda()\n",
    "criterion = torch.nn.CrossEntropyLoss()\n",
    "optimizer = optim.SGD(classifier.parameters(), lr=0.01)"
   ]
  },
  {
   "cell_type": "code",
   "execution_count": 10,
   "id": "d09b619f-0239-4202-9490-d0108c83b96d",
   "metadata": {},
   "outputs": [],
   "source": [
    "from SupContrast.util import AverageMeter\n",
    "from SupContrast.util import accuracy\n",
    "from tqdm import tqdm"
   ]
  },
  {
   "cell_type": "code",
   "execution_count": 13,
   "id": "70be6578-748b-4a3c-be73-c66a38b892a5",
   "metadata": {
    "collapsed": true,
    "jupyter": {
     "outputs_hidden": true
    },
    "tags": []
   },
   "outputs": [
    {
     "name": "stderr",
     "output_type": "stream",
     "text": [
      "100%|██████████| 3021/3021 [08:14<00:00,  6.12it/s]\n"
     ]
    },
    {
     "name": "stdout",
     "output_type": "stream",
     "text": [
      "Epoch 0: loss = 0.013830464898798547, acc = tensor([99.7984], device='cuda:0')\n"
     ]
    },
    {
     "name": "stderr",
     "output_type": "stream",
     "text": [
      "100%|██████████| 3021/3021 [08:11<00:00,  6.14it/s]\n"
     ]
    },
    {
     "name": "stdout",
     "output_type": "stream",
     "text": [
      "Epoch 1: loss = 0.004980118928648514, acc = tensor([99.8779], device='cuda:0')\n"
     ]
    },
    {
     "name": "stderr",
     "output_type": "stream",
     "text": [
      "100%|██████████| 3021/3021 [08:12<00:00,  6.13it/s]\n"
     ]
    },
    {
     "name": "stdout",
     "output_type": "stream",
     "text": [
      "Epoch 2: loss = 0.003958182051134632, acc = tensor([99.9030], device='cuda:0')\n"
     ]
    },
    {
     "name": "stderr",
     "output_type": "stream",
     "text": [
      "100%|██████████| 3021/3021 [08:18<00:00,  6.06it/s]\n"
     ]
    },
    {
     "name": "stdout",
     "output_type": "stream",
     "text": [
      "Epoch 3: loss = 0.003476453364120996, acc = tensor([99.9152], device='cuda:0')\n"
     ]
    },
    {
     "name": "stderr",
     "output_type": "stream",
     "text": [
      "100%|██████████| 3021/3021 [08:05<00:00,  6.23it/s]\n"
     ]
    },
    {
     "name": "stdout",
     "output_type": "stream",
     "text": [
      "Epoch 4: loss = 0.0031404419795380023, acc = tensor([99.9238], device='cuda:0')\n"
     ]
    },
    {
     "name": "stderr",
     "output_type": "stream",
     "text": [
      "100%|██████████| 3021/3021 [08:14<00:00,  6.11it/s]\n"
     ]
    },
    {
     "name": "stdout",
     "output_type": "stream",
     "text": [
      "Epoch 5: loss = 0.0028882115278304004, acc = tensor([99.9299], device='cuda:0')\n"
     ]
    },
    {
     "name": "stderr",
     "output_type": "stream",
     "text": [
      "100%|██████████| 3021/3021 [08:09<00:00,  6.17it/s]\n"
     ]
    },
    {
     "name": "stdout",
     "output_type": "stream",
     "text": [
      "Epoch 6: loss = 0.0026897753914607186, acc = tensor([99.9343], device='cuda:0')\n"
     ]
    },
    {
     "name": "stderr",
     "output_type": "stream",
     "text": [
      "100%|██████████| 3021/3021 [08:13<00:00,  6.13it/s]\n"
     ]
    },
    {
     "name": "stdout",
     "output_type": "stream",
     "text": [
      "Epoch 7: loss = 0.0025286218821368844, acc = tensor([99.9384], device='cuda:0')\n"
     ]
    },
    {
     "name": "stderr",
     "output_type": "stream",
     "text": [
      "100%|██████████| 3021/3021 [08:11<00:00,  6.15it/s]\n"
     ]
    },
    {
     "name": "stdout",
     "output_type": "stream",
     "text": [
      "Epoch 8: loss = 0.002394688842020142, acc = tensor([99.9426], device='cuda:0')\n"
     ]
    },
    {
     "name": "stderr",
     "output_type": "stream",
     "text": [
      "100%|██████████| 3021/3021 [08:13<00:00,  6.12it/s]"
     ]
    },
    {
     "name": "stdout",
     "output_type": "stream",
     "text": [
      "Epoch 9: loss = 0.0022813792193305577, acc = tensor([99.9459], device='cuda:0')\n"
     ]
    },
    {
     "name": "stderr",
     "output_type": "stream",
     "text": [
      "\n"
     ]
    }
   ],
   "source": [
    "epochs = 10\n",
    "for epoch in range(epochs):\n",
    "    model.eval()\n",
    "    classifier.train()\n",
    "    \n",
    "    losses = AverageMeter()\n",
    "    accs = AverageMeter()\n",
    "    \n",
    "    for data, labels in tqdm(train_loader):\n",
    "        data = data.cuda()\n",
    "        labels = labels.cuda()\n",
    "        bsz = labels.shape[0]\n",
    "        with torch.no_grad():\n",
    "            feats = model.encoder(data)\n",
    "            \n",
    "        output = classifier(feats.detach())\n",
    "        loss = criterion(output, labels)\n",
    "        acc = accuracy(output, labels, topk=(1, ))\n",
    "        losses.update(loss.item(), bsz)\n",
    "        accs.update(acc[0], bsz)\n",
    "        \n",
    "        optimizer.zero_grad()\n",
    "        loss.backward()\n",
    "        optimizer.step()\n",
    "    print(f'Epoch {epoch}: loss = {losses.avg}, acc = {accs.avg}')"
   ]
  },
  {
   "cell_type": "code",
   "execution_count": null,
   "id": "36d9377e-fd0c-4839-8210-2b7ab8229a0f",
   "metadata": {},
   "outputs": [],
   "source": []
  }
 ],
 "metadata": {
  "kernelspec": {
   "display_name": "Python [conda env:torch] *",
   "language": "python",
   "name": "conda-env-torch-py"
  },
  "language_info": {
   "codemirror_mode": {
    "name": "ipython",
    "version": 3
   },
   "file_extension": ".py",
   "mimetype": "text/x-python",
   "name": "python",
   "nbconvert_exporter": "python",
   "pygments_lexer": "ipython3",
   "version": "3.7.10"
  }
 },
 "nbformat": 4,
 "nbformat_minor": 5
}
