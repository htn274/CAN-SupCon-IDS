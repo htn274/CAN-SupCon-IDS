{
 "cells": [
  {
   "cell_type": "code",
   "execution_count": 1,
   "id": "4b4eb8c0-6156-4d2b-86c7-8546daa6632a",
   "metadata": {},
   "outputs": [],
   "source": [
    "%load_ext autoreload\n",
    "%autoreload 2\n",
    "\n",
    "import sys\n",
    "sys.path.append('../')"
   ]
  },
  {
   "cell_type": "code",
<<<<<<< HEAD
   "execution_count": 40,
=======
   "execution_count": 2,
>>>>>>> 042255c87a0ef8940f3b0b176d1c6187184ba640
   "id": "94e9d30d-9e89-4ee8-800a-6f440228144a",
   "metadata": {},
   "outputs": [],
   "source": [
    "from networks.inception import InceptionResnet\n",
    "from networks.simple_cnn import BaselineCNNClassifier\n",
    "from networks.resnet_big import SupCEResNet, SupConResNet, LinearClassifier\n",
    "import torch\n",
    "from torchsummary import summary\n",
    "from thop import profile"
   ]
  },
  {
   "cell_type": "code",
   "execution_count": 41,
   "id": "148a2836",
   "metadata": {},
   "outputs": [],
   "source": [
    "def infer(model, device):\n",
    "    model = model.to(device=device)\n",
    "    x = torch.rand((1, 1, 29, 29), device=device)\n",
    "    out = model(x)\n",
    "    return out"
   ]
  },
  {
   "cell_type": "code",
<<<<<<< HEAD
   "execution_count": 42,
=======
   "execution_count": 7,
>>>>>>> 042255c87a0ef8940f3b0b176d1c6187184ba640
   "id": "f34fdfd3-8786-410f-9dd0-048b607f4c9d",
   "metadata": {},
   "outputs": [],
   "source": [
    "import time\n",
    "\n",
    "def measure_time(model, device, num_trial = 10):\n",
    "    model = model.to(device=device)\n",
    "    total_time = 0\n",
    "    for i in range(num_trial):\n",
    "        x = torch.rand((1, 1, 29, 29), device=device)\n",
    "        start_time = time.time()\n",
    "        out = model(x)\n",
    "        total_time += time.time() - start_time\n",
    "    return total_time*1000/num_trial"
   ]
  },
  {
   "cell_type": "code",
<<<<<<< HEAD
   "execution_count": 44,
   "id": "b35e749d-bf36-4c56-a6a3-47e6732abf5e",
   "metadata": {},
   "outputs": [],
   "source": [
    "model = SupConResNet('resnet18')\n",
    "classifier = LinearClassifier(num_classes=5)\n",
    "baseline_model = SupCEResNet(num_classes=5)"
   ]
  },
  {
   "cell_type": "code",
   "execution_count": 48,
   "id": "417524a9",
   "metadata": {},
   "outputs": [
    {
     "name": "stdout",
     "output_type": "stream",
     "text": [
      "11.4 ms ± 235 µs per loop (mean ± std. dev. of 5 runs, 100 loops each)\n"
     ]
    }
   ],
   "source": [
    "%%timeit -r 5 -n 100\n",
    "x = x = torch.rand((1, 1, 29, 29), device='cpu')\n",
    "out = baseline_model(x)"
   ]
  },
  {
   "cell_type": "code",
   "execution_count": 39,
   "id": "043e1a45",
   "metadata": {},
   "outputs": [
    {
     "name": "stdout",
     "output_type": "stream",
     "text": [
      "9.89 ms ± 173 µs per loop (mean ± std. dev. of 5 runs, 100 loops each)\n"
     ]
    }
   ],
   "source": [
    "%timeit -r 5 -n 100 infer(baseline_model, device='cpu')"
   ]
  },
  {
   "cell_type": "code",
   "execution_count": 8,
   "id": "68797408",
=======
   "execution_count": 4,
   "id": "b35e749d-bf36-4c56-a6a3-47e6732abf5e",
>>>>>>> 042255c87a0ef8940f3b0b176d1c6187184ba640
   "metadata": {},
   "outputs": [
    {
     "name": "stdout",
     "output_type": "stream",
     "text": [
      "3.37 ms ± 225 µs per loop (mean ± std. dev. of 5 runs, 100 loops each)\n"
     ]
    }
   ],
   "source": [
    "%timeit -r 5 -n 100 infer(baseline_model, device='cuda')"
   ]
  },
  {
   "cell_type": "code",
   "execution_count": 26,
   "id": "043e1a45",
   "metadata": {},
   "outputs": [
    {
     "name": "stdout",
     "output_type": "stream",
     "text": [
      "39.2 ms ± 6.33 ms per loop (mean ± std. dev. of 10 runs, 100 loops each)\n"
     ]
    }
   ],
   "source": [
    "%timeit -r 10 -n 100 infer(baseline_model, device='cpu')"
   ]
  },
  {
   "cell_type": "code",
   "execution_count": 25,
   "id": "68797408",
   "metadata": {},
   "outputs": [
    {
     "name": "stdout",
     "output_type": "stream",
     "text": [
      "9.23 ms ± 426 µs per loop (mean ± std. dev. of 10 runs, 100 loops each)\n"
     ]
    }
   ],
   "source": [
    "%timeit -r 10 -n 100 infer(baseline_model, device='cuda')"
   ]
  },
  {
   "cell_type": "code",
<<<<<<< HEAD
   "execution_count": 20,
=======
   "execution_count": 9,
>>>>>>> 042255c87a0ef8940f3b0b176d1c6187184ba640
   "id": "fd542d66-5ef1-42c6-ac4c-57f36aa91335",
   "metadata": {},
   "outputs": [
    {
     "data": {
      "text/plain": [
<<<<<<< HEAD
       "8.330013751983643"
      ]
     },
     "execution_count": 20,
=======
       "66.78523302078247"
      ]
     },
     "execution_count": 9,
>>>>>>> 042255c87a0ef8940f3b0b176d1c6187184ba640
     "metadata": {},
     "output_type": "execute_result"
    }
   ],
   "source": [
    "measure_time(baseline_model, device='cpu', num_trial=100)"
   ]
  },
  {
   "cell_type": "code",
   "execution_count": 10,
   "id": "1696df72-d0d6-43e4-9973-404f57ee1504",
   "metadata": {},
   "outputs": [
    {
     "data": {
      "text/plain": [
<<<<<<< HEAD
       "2.6993942260742188"
=======
       "13.291046619415283"
>>>>>>> 042255c87a0ef8940f3b0b176d1c6187184ba640
      ]
     },
     "execution_count": 10,
     "metadata": {},
     "output_type": "execute_result"
    }
   ],
   "source": [
    "measure_time(baseline_model, device='cuda', num_trial=100)"
   ]
  },
  {
   "cell_type": "code",
<<<<<<< HEAD
   "execution_count": 11,
=======
   "execution_count": 18,
>>>>>>> 042255c87a0ef8940f3b0b176d1c6187184ba640
   "id": "46511c12-302e-412d-9558-1c30d6598fd8",
   "metadata": {},
   "outputs": [],
   "source": [
    "incep = InceptionResnet(n_classes=5)"
   ]
  },
  {
   "cell_type": "code",
   "execution_count": 30,
   "id": "e9089246",
   "metadata": {},
   "outputs": [
    {
     "name": "stdout",
     "output_type": "stream",
     "text": [
<<<<<<< HEAD
      "8.56 ms ± 40.3 µs per loop (mean ± std. dev. of 5 runs, 100 loops each)\n"
=======
      "27.9 ms ± 6.11 ms per loop (mean ± std. dev. of 10 runs, 100 loops each)\n"
>>>>>>> 042255c87a0ef8940f3b0b176d1c6187184ba640
     ]
    }
   ],
   "source": [
<<<<<<< HEAD
    "%timeit -r 5 -n 100 infer(incep, device='cpu')"
=======
    "%timeit -r 10 -n 100 infer(incep, device='cpu')"
>>>>>>> 042255c87a0ef8940f3b0b176d1c6187184ba640
   ]
  },
  {
   "cell_type": "code",
<<<<<<< HEAD
   "execution_count": 13,
=======
   "execution_count": 31,
>>>>>>> 042255c87a0ef8940f3b0b176d1c6187184ba640
   "id": "d708691d",
   "metadata": {},
   "outputs": [
    {
     "name": "stdout",
     "output_type": "stream",
     "text": [
<<<<<<< HEAD
      "2.37 ms ± 49.7 µs per loop (mean ± std. dev. of 5 runs, 100 loops each)\n"
=======
      "10.8 ms ± 3.22 ms per loop (mean ± std. dev. of 10 runs, 100 loops each)\n"
>>>>>>> 042255c87a0ef8940f3b0b176d1c6187184ba640
     ]
    }
   ],
   "source": [
<<<<<<< HEAD
    "%timeit -r 5 -n 100 infer(incep, device='cuda')"
=======
    "%timeit -r 10 -n 100 infer(incep, device='cuda')"
>>>>>>> 042255c87a0ef8940f3b0b176d1c6187184ba640
   ]
  },
  {
   "cell_type": "code",
<<<<<<< HEAD
   "execution_count": 29,
=======
   "execution_count": 21,
>>>>>>> 042255c87a0ef8940f3b0b176d1c6187184ba640
   "id": "19c070f1-64cf-4fe6-a96e-bca78351d594",
   "metadata": {
    "tags": []
   },
   "outputs": [
    {
     "data": {
      "text/plain": [
<<<<<<< HEAD
       "7.48774528503418"
      ]
     },
     "execution_count": 29,
=======
       "22.43168830871582"
      ]
     },
     "execution_count": 21,
>>>>>>> 042255c87a0ef8940f3b0b176d1c6187184ba640
     "metadata": {},
     "output_type": "execute_result"
    }
   ],
   "source": [
    "measure_time(incep, device='cpu', num_trial=100)"
   ]
  },
  {
   "cell_type": "code",
   "execution_count": 22,
   "id": "43c0c0e1-8384-40bf-84c3-ae7c9f8c5df8",
   "metadata": {},
   "outputs": [
    {
     "data": {
      "text/plain": [
       "6.924607753753662"
      ]
     },
     "execution_count": 22,
     "metadata": {},
     "output_type": "execute_result"
    }
   ],
   "source": [
    "measure_time(incep, device= 'cuda', num_trial=100)"
   ]
  },
  {
   "cell_type": "code",
   "execution_count": 16,
   "id": "ec6b048f-724f-4617-8650-d46c4daf0575",
   "metadata": {},
   "outputs": [
    {
     "name": "stdout",
     "output_type": "stream",
     "text": [
      "[INFO] Register count_convNd() for <class 'torch.nn.modules.conv.Conv2d'>.\n",
      "[INFO] Register count_normalization() for <class 'torch.nn.modules.batchnorm.BatchNorm2d'>.\n",
      "[INFO] Register zero_ops() for <class 'torch.nn.modules.container.Sequential'>.\n",
      "[INFO] Register count_adap_avgpool() for <class 'torch.nn.modules.pooling.AdaptiveAvgPool2d'>.\n",
      "[INFO] Register count_linear() for <class 'torch.nn.modules.linear.Linear'>.\n",
      "MACs (G):  0.032560592\n",
      "Params (M):  0.700533\n"
     ]
    }
   ],
   "source": [
    "x = torch.rand((1, 1, 29, 29), device='cpu')\n",
    "baseline_model = baseline_model.to(device='cpu')\n",
    "macs, params = profile(baseline_model, inputs=(x, ))\n",
    "print('MACs (G): ', macs/1000**3)\n",
    "print('Params (M): ', params/1000**2)"
   ]
  },
  {
   "cell_type": "code",
<<<<<<< HEAD
   "execution_count": 14,
=======
   "execution_count": 17,
>>>>>>> 042255c87a0ef8940f3b0b176d1c6187184ba640
   "id": "31daf0f2-281a-44e8-aede-c7d57a1205df",
   "metadata": {},
   "outputs": [
    {
     "name": "stdout",
     "output_type": "stream",
     "text": [
      "[INFO] Register count_convNd() for <class 'torch.nn.modules.conv.Conv2d'>.\n",
      "[INFO] Register zero_ops() for <class 'torch.nn.modules.pooling.MaxPool2d'>.\n",
      "[INFO] Register zero_ops() for <class 'torch.nn.modules.container.Sequential'>.\n",
      "[INFO] Register zero_ops() for <class 'torch.nn.modules.activation.ReLU'>.\n",
      "[INFO] Register count_adap_avgpool() for <class 'torch.nn.modules.pooling.AdaptiveAvgPool2d'>.\n",
      "[INFO] Register count_linear() for <class 'torch.nn.modules.linear.Linear'>.\n",
      "MACs (G):  0.097190176\n",
      "Params (M):  1.694181\n"
     ]
    },
    {
     "name": "stderr",
     "output_type": "stream",
     "text": [
      "/home/dhkim1/miniconda3/envs/torch/lib/python3.7/site-packages/torch/_tensor.py:575: UserWarning: floor_divide is deprecated, and will be removed in a future version of pytorch. It currently rounds toward 0 (like the 'trunc' function NOT 'floor'). This results in incorrect rounding for negative values.\n",
      "To keep the current behavior, use torch.div(a, b, rounding_mode='trunc'), or for actual floor division, use torch.div(a, b, rounding_mode='floor'). (Triggered internally at  /opt/conda/conda-bld/pytorch_1623448224956/work/aten/src/ATen/native/BinaryOps.cpp:467.)\n",
      "  return torch.floor_divide(self, other)\n"
     ]
    }
   ],
   "source": [
    "x = torch.rand((1, 1, 29, 29), device='cpu')\n",
    "incep = incep.to(device='cpu')\n",
    "macs, params = profile(incep, inputs=(x, ))\n",
    "print('MACs (G): ', macs/1000**3)\n",
    "print('Params (M): ', params/1000**2)"
   ]
  },
  {
   "cell_type": "code",
   "execution_count": null,
   "id": "ebf2be93",
   "metadata": {},
   "outputs": [],
   "source": []
  }
 ],
 "metadata": {
  "kernelspec": {
   "display_name": "Python 3 (ipykernel)",
   "language": "python",
   "name": "python3"
  },
  "language_info": {
   "codemirror_mode": {
    "name": "ipython",
    "version": 3
   },
   "file_extension": ".py",
   "mimetype": "text/x-python",
   "name": "python",
   "nbconvert_exporter": "python",
   "pygments_lexer": "ipython3",
   "version": "3.8.10"
  },
  "vscode": {
   "interpreter": {
    "hash": "ec8a7a313ab33d199c8aa698bb86bd912b8385ce4922a6e184e3f5edd5eb95f6"
   }
  }
 },
 "nbformat": 4,
 "nbformat_minor": 5
}
