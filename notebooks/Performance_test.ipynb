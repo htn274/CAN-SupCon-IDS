{
 "cells": [
  {
   "cell_type": "code",
   "execution_count": 1,
   "id": "4b4eb8c0-6156-4d2b-86c7-8546daa6632a",
   "metadata": {},
   "outputs": [],
   "source": [
    "%load_ext autoreload\n",
    "%autoreload 2\n",
    "\n",
    "import sys\n",
    "sys.path.append('../')"
   ]
  },
  {
   "cell_type": "code",
   "execution_count": 2,
   "id": "94e9d30d-9e89-4ee8-800a-6f440228144a",
   "metadata": {},
   "outputs": [],
   "source": [
    "from networks.inception import InceptionResnet, SupIncepResnet\n",
    "from networks.simple_cnn import BaselineCNNClassifier\n",
    "from networks.resnet_big import SupCEResNet, SupConResNet, LinearClassifier\n",
    "import torch\n",
    "from torchsummary import summary\n",
    "from thop import profile\n",
    "import numpy as np\n",
    "import time"
   ]
  },
  {
   "cell_type": "code",
   "execution_count": 3,
   "id": "398ddce7",
   "metadata": {},
   "outputs": [],
   "source": [
    "def measure_time_gpu(model, device, rep):\n",
    "    model = model.to(device=device)\n",
    "    dummy_input = torch.randn(1, 1, 29, 29, dtype=torch.float).to(device)\n",
    "    # INIT LOGGERS\n",
    "    starter, ender = torch.cuda.Event(enable_timing=True), torch.cuda.Event(enable_timing=True)\n",
    "    repetitions = rep\n",
    "    timings=np.zeros((repetitions,1))\n",
    "    #GPU-WARM-UP\n",
    "    for _ in range(100):\n",
    "        _ = model(dummy_input)\n",
    "    # MEASURE PERFORMANCE\n",
    "    with torch.no_grad():\n",
    "        for rep in range(repetitions):\n",
    "            starter.record()\n",
    "            _ = model(dummy_input)\n",
    "            ender.record()\n",
    "            # WAIT FOR GPU SYNC\n",
    "            torch.cuda.synchronize()\n",
    "            curr_time = starter.elapsed_time(ender)\n",
    "            timings[rep] = curr_time\n",
    "    mean_syn = np.sum(timings) / repetitions\n",
    "    std_syn = np.std(timings)\n",
    "    return mean_syn, std_syn\n"
   ]
  },
  {
   "cell_type": "code",
   "execution_count": 4,
   "id": "f08bd61e",
   "metadata": {},
   "outputs": [],
   "source": [
    "def measure_time_cpu(model, device, rep = 10):\n",
    "    model = model.to(device=device)\n",
    "    x = torch.rand((1, 1, 29, 29), device=device)\n",
    "    timings=np.zeros((rep,1))\n",
    "    for i in range(rep):    \n",
    "        start_time = time.time()\n",
    "        out = model(x)\n",
    "        timings[i] = time.time() - start_time\n",
    "    mean_syn = np.sum(timings) / rep\n",
    "    std_syn = np.std(timings)\n",
    "    return mean_syn, std_syn"
   ]
  },
  {
   "cell_type": "code",
   "execution_count": null,
   "id": "46511c12-302e-412d-9558-1c30d6598fd8",
   "metadata": {},
   "outputs": [],
   "source": [
    "incep = SupIncepResnet(num_classes=5)\n",
    "measure_time_gpu(incep, 'cuda', rep=1000)"
   ]
  },
  {
   "cell_type": "code",
   "execution_count": null,
   "id": "b35e749d-bf36-4c56-a6a3-47e6732abf5e",
   "metadata": {},
   "outputs": [],
   "source": [
    "baseline_model = SupCEResNet(name='resnet18', num_classes=5)\n",
    "measure_time_gpu(baseline_model, 'cuda', rep=1000)"
   ]
  },
  {
   "cell_type": "code",
   "execution_count": null,
   "id": "ec6b048f-724f-4617-8650-d46c4daf0575",
   "metadata": {},
   "outputs": [],
   "source": [
    "x = torch.rand((1, 1, 29, 29), device='cpu')\n",
    "baseline_model = baseline_model.to(device='cpu')\n",
    "macs, params = profile(baseline_model, inputs=(x, ))\n",
    "print('MACs (G): ', macs/1000**3)\n",
    "print('Params (M): ', params/1000**2)"
   ]
  },
  {
   "cell_type": "code",
   "execution_count": null,
   "id": "31daf0f2-281a-44e8-aede-c7d57a1205df",
   "metadata": {},
   "outputs": [],
   "source": [
    "x = torch.rand((1, 1, 29, 29), device='cpu')\n",
    "incep = incep.to(device='cpu')\n",
    "macs, params = profile(incep, inputs=(x, ))\n",
    "print('MACs (G): ', macs/1000**3)\n",
    "print('Params (M): ', params/1000**2)"
   ]
  },
  {
   "cell_type": "code",
   "execution_count": null,
   "id": "cf5bac89-5eee-4c5c-b616-c7ddd465c953",
   "metadata": {},
   "outputs": [],
   "source": [
    "summary(baseline_model.cuda(), (1, 29, 29))"
   ]
  },
  {
   "cell_type": "code",
   "execution_count": null,
   "id": "56eb30d1-60ce-4944-b917-2a012b1f49fc",
   "metadata": {},
   "outputs": [],
   "source": [
    "summary(incep.cuda(), (1, 29, 29))"
   ]
  }
 ],
 "metadata": {
  "kernelspec": {
   "display_name": "Python 3 (ipykernel)",
   "language": "python",
   "name": "python3"
  },
  "language_info": {
   "codemirror_mode": {
    "name": "ipython",
    "version": 3
   },
   "file_extension": ".py",
   "mimetype": "text/x-python",
   "name": "python",
   "nbconvert_exporter": "python",
   "pygments_lexer": "ipython3",
   "version": "3.8.10"
  },
  "vscode": {
   "interpreter": {
    "hash": "ec8a7a313ab33d199c8aa698bb86bd912b8385ce4922a6e184e3f5edd5eb95f6"
   }
  }
 },
 "nbformat": 4,
 "nbformat_minor": 5
}
