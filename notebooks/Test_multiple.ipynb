{
 "cells": [
  {
   "cell_type": "code",
   "execution_count": 1,
   "id": "b1e9fa50-d96c-4268-b4d6-2b78dc331a5b",
   "metadata": {},
   "outputs": [],
   "source": [
    "%load_ext autoreload\n",
    "%autoreload 2\n",
    "\n",
    "import sys\n",
    "sys.path.append('../')"
   ]
  },
  {
   "cell_type": "code",
   "execution_count": 3,
   "id": "8ec78ee2-1909-479e-81f4-3f781f10c2f8",
   "metadata": {},
   "outputs": [],
   "source": [
    "from test_model import test\n",
    "from argparse import Namespace\n",
    "import glob\n",
    "import numpy as np\n",
    "from concurrent import futures\n",
    "import multiprocessing\n",
    "import copy\n",
    "import json"
   ]
  },
  {
   "cell_type": "code",
   "execution_count": 3,
   "id": "ad9d2779-ec49-43c8-8323-5773adb607c4",
   "metadata": {},
   "outputs": [],
   "source": [
    "args = {\n",
    "    'data_path': '../Data/',\n",
    "    'pretrained_model': 'resnet',\n",
    "    'pretrained_path': '',\n",
    "    'window_size': 29,\n",
    "    'strided': 15,\n",
    "    'batch_size': 512,\n",
    "    'num_workers': 8,\n",
    "    'trial_id': 1,\n",
    "    'ckpt' : 50, #200,\n",
    "    'car_model': None\n",
    "}\n",
    "\n",
    "args = Namespace(**args)"
   ]
  },
  {
   "cell_type": "code",
   "execution_count": 4,
   "id": "942c1c1d-1e41-4f0c-ab9a-9f52ddfad2f0",
   "metadata": {},
   "outputs": [
    {
     "data": {
      "text/plain": [
       "['./save/resnet181_lr0.0005_bs256_50epochs_050122_093024_cosine',\n",
       " './save/resnet182_lr0.0005_bs256_50epochs_043022_095208_cosine',\n",
       " './save/resnet183_lr0.0005_bs256_50epochs_043022_095431_cosine',\n",
       " './save/resnet184_lr0.0005_bs256_50epochs_043022_211030_cosine',\n",
       " './save/resnet185_lr0.0005_bs256_50epochs_043022_211029_cosine',\n",
       " './save/resnet185_lr0.0005_bs256_50epochs_050122_092956_cosine']"
      ]
     },
     "execution_count": 4,
     "metadata": {},
     "output_type": "execute_result"
    }
   ],
   "source": [
    "bs = 512\n",
    "# pretrained_paths = sorted(glob.glob(f'./save/SupCon_resnet18*_bs{bs}*'))\n",
    "pretrained_paths = sorted(glob.glob('./save/resnet18?_*'))\n",
    "\n",
    "pretrained_paths"
   ]
  },
  {
   "cell_type": "code",
   "execution_count": 5,
   "id": "2d414d56-4ccf-464d-b226-46bd210a2890",
   "metadata": {
    "collapsed": true,
    "jupyter": {
     "outputs_hidden": true
    },
    "tags": []
   },
   "outputs": [
    {
     "name": "stdout",
     "output_type": "stream",
     "text": [
      "Loading:  SupCEResNet\n",
      "Loading:  Loading: SupCEResNet Loading: \n",
      "SupCEResNet \n",
      "SupCEResNetLoading: \n",
      " SupCEResNet\n",
      "Loading:  SupCEResNet\n"
     ]
    },
    {
     "data": {
      "application/vnd.jupyter.widget-view+json": {
       "model_id": "266ec6f6c68a4234b1c25afba66e468a",
       "version_major": 2,
       "version_minor": 0
      },
      "text/plain": [
       "  0%|          | 0/648 [00:00<?, ?it/s]"
      ]
     },
     "metadata": {},
     "output_type": "display_data"
    },
    {
     "data": {
      "application/vnd.jupyter.widget-view+json": {
       "model_id": "eae8a698db67432f8424fcdd1f4de476",
       "version_major": 2,
       "version_minor": 0
      },
      "text/plain": [
       "  0%|          | 0/648 [00:01<?, ?it/s]"
      ]
     },
     "metadata": {},
     "output_type": "display_data"
    },
    {
     "data": {
      "application/vnd.jupyter.widget-view+json": {
       "model_id": "98d65d35817245b7a2174467775e50fe",
       "version_major": 2,
       "version_minor": 0
      },
      "text/plain": [
       "  0%|          | 0/648 [00:01<?, ?it/s]"
      ]
     },
     "metadata": {},
     "output_type": "display_data"
    },
    {
     "data": {
      "application/vnd.jupyter.widget-view+json": {
       "model_id": "dd61c33101d544af8e9bc9b8035aede1",
       "version_major": 2,
       "version_minor": 0
      },
      "text/plain": [
       "  0%|          | 0/648 [00:01<?, ?it/s]"
      ]
     },
     "metadata": {},
     "output_type": "display_data"
    },
    {
     "data": {
      "application/vnd.jupyter.widget-view+json": {
       "model_id": "57627c61184a4939abd24c1b2e35af04",
       "version_major": 2,
       "version_minor": 0
      },
      "text/plain": [
       "  0%|          | 0/648 [00:01<?, ?it/s]"
      ]
     },
     "metadata": {},
     "output_type": "display_data"
    },
    {
     "data": {
      "application/vnd.jupyter.widget-view+json": {
       "model_id": "1603d29f3c0b4746a8488b91ed4b0dbe",
       "version_major": 2,
       "version_minor": 0
      },
      "text/plain": [
       "  0%|          | 0/648 [00:01<?, ?it/s]"
      ]
     },
     "metadata": {},
     "output_type": "display_data"
    },
    {
     "name": "stdout",
     "output_type": "stream",
     "text": [
      "['0.0039', '0.1749', '0.1240', '0.1373', '0.0966']\n",
      "['1.0000', '0.9983', '0.9988', '0.9986', '0.9990']\n",
      "['0.9993', '1.0000', '0.9998', '0.9998', '0.9999']\n",
      "['0.9996', '0.9991', '0.9993', '0.9992', '0.9995']\n",
      "['0.0020', '0.1934', '0.1705', '0.1321', '0.1063']\n",
      "['1.0000', '0.9981', '0.9983', '0.9987', '0.9989']\n",
      "['0.9992', '1.0000', '0.9999', '0.9999', '0.9999']\n",
      "['0.9996', '0.9990', '0.9991', '0.9993', '0.9994']\n",
      "['0.0024', '0.2118', '0.1705', '0.1004', '0.1015']\n",
      "['1.0000', '0.9979', '0.9983', '0.9990', '0.9990']\n",
      "['0.9992', '1.0000', '0.9998', '0.9998', '0.9999']\n",
      "['0.9996', '0.9989', '0.9991', '0.9994', '0.9994']\n",
      "['0.0024', '0.1151', '0.2248', '0.0924', '0.0821']\n",
      "['1.0000', '0.9988', '0.9978', '0.9991', '0.9992']\n",
      "['0.9993', '1.0000', '0.9999', '0.9998', '0.9998']\n",
      "['0.9997', '0.9994', '0.9988', '0.9994', '0.9995']\n",
      "['0.0005', '0.2302', '0.2015', '0.0819', '0.0918']\n",
      "['1.0000', '0.9977', '0.9980', '0.9992', '0.9991']\n",
      "['0.9992', '0.9999', '0.9999', '0.9998', '0.9999']\n",
      "['0.9996', '0.9988', '0.9989', '0.9995', '0.9995']\n",
      "['0.0010', '0.2026', '0.2287', '0.0634', '0.1232']\n",
      "['1.0000', '0.9980', '0.9977', '0.9994', '0.9988']\n",
      "['0.9992', '0.9999', '1.0000', '0.9997', '0.9999']\n",
      "['0.9996', '0.9989', '0.9988', '0.9995', '0.9993']\n"
     ]
    }
   ],
   "source": [
    "num_cpu = multiprocessing.cpu_count()\n",
    "workers = max(num_cpu, len(pretrained_paths))\n",
    "\n",
    "with futures.ProcessPoolExecutor(workers) as executor:\n",
    "    to_do = []\n",
    "    for path in pretrained_paths:\n",
    "        args.trial_id = path.split('_')[0][-1]\n",
    "        args.pretrained_path = f'{path}/models/'\n",
    "        future = executor.submit(test, copy.deepcopy(args), \n",
    "                                 {'verbose': False, 'is_cuda': True})\n",
    "        to_do.append(future)\n",
    "        \n",
    "    \n",
    "    total_results = {}\n",
    "    for future in futures.as_completed(to_do):\n",
    "        try:\n",
    "            results = future.result()\n",
    "            for k, v in results.items():\n",
    "                total_results.setdefault(k, [])\n",
    "                total_results[k].append(v)\n",
    "        except Exception as error:\n",
    "            print('An exception occurred: {}'.format(error))"
   ]
  },
  {
   "cell_type": "code",
   "execution_count": 6,
   "id": "d4ccb675-670d-4818-83d7-98a9b4cb4b79",
   "metadata": {},
   "outputs": [
    {
     "name": "stdout",
     "output_type": "stream",
     "text": [
      "Final results\n",
      "fnr ['0.0020', '0.1880', '0.1867', '0.1012', '0.1003']\n",
      "rec ['1.0000', '0.9981', '0.9981', '0.9990', '0.9990']\n",
      "pre ['0.9992', '0.9999', '0.9999', '0.9998', '0.9999']\n",
      "f1 ['0.9996', '0.9990', '0.9990', '0.9994', '0.9994']\n"
     ]
    }
   ],
   "source": [
    "print('Final results')\n",
    "total_results = {k: np.stack(v, axis=0) for k, v in total_results.items()}\n",
    "for k, v in total_results.items():\n",
    "    print(k, list(\"{0:0.4f}\".format(i) for i in v.mean(axis=0)))"
   ]
  },
  {
   "cell_type": "code",
   "execution_count": 7,
   "id": "a629379c-1356-4130-bb51-4ba70ba6b9a8",
   "metadata": {},
   "outputs": [],
   "source": [
    "class NumpyEncoder(json.JSONEncoder):\n",
    "    def default(self, obj):\n",
    "        if isinstance(obj, np.ndarray):\n",
    "            return obj.tolist()\n",
    "        return json.JSONEncoder.default(self, obj)"
   ]
  },
  {
   "cell_type": "code",
   "execution_count": 8,
   "id": "92d467bf-3823-40ee-832f-fa9278b54f57",
   "metadata": {
    "tags": []
   },
   "outputs": [],
   "source": [
    "file = f'{args.pretrained_model}{bs}.json'\n",
    "with open(f'./reports/{file}', 'w') as convert_file:\n",
    "     convert_file.write(json.dumps(total_results, cls=NumpyEncoder))"
   ]
  }
 ],
 "metadata": {
  "kernelspec": {
   "display_name": "Python [conda env:torch] *",
   "language": "python",
   "name": "conda-env-torch-py"
  },
  "language_info": {
   "codemirror_mode": {
    "name": "ipython",
    "version": 3
   },
   "file_extension": ".py",
   "mimetype": "text/x-python",
   "name": "python",
   "nbconvert_exporter": "python",
   "pygments_lexer": "ipython3",
   "version": "3.7.10"
  }
 },
 "nbformat": 4,
 "nbformat_minor": 5
}
