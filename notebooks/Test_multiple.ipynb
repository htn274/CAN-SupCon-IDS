{
 "cells": [
  {
   "cell_type": "code",
   "execution_count": 1,
   "id": "b1e9fa50-d96c-4268-b4d6-2b78dc331a5b",
   "metadata": {},
   "outputs": [],
   "source": [
    "%load_ext autoreload\n",
    "%autoreload 2\n",
    "\n",
    "import sys\n",
    "sys.path.append('../')"
   ]
  },
  {
   "cell_type": "code",
   "execution_count": 2,
   "id": "8ec78ee2-1909-479e-81f4-3f781f10c2f8",
   "metadata": {},
   "outputs": [],
   "source": [
    "from test_model import test\n",
    "from argparse import Namespace\n",
    "import glob\n",
    "import numpy as np\n",
    "from concurrent import futures\n",
    "import multiprocessing\n",
    "import copy\n",
    "import json"
   ]
  },
  {
   "cell_type": "code",
   "execution_count": 3,
   "id": "02f827e4-a3a4-4762-933b-f952a132df28",
   "metadata": {},
   "outputs": [],
   "source": [
    "args = {\n",
    "    'data_path': '../../Data/',\n",
    "    'pretrained_model': 'supcon', #'resnet',\n",
    "    'pretrained_path': '',\n",
    "    'window_size': 29,\n",
    "    'strided': 15,\n",
    "    'batch_size': 512,\n",
    "    'num_workers': 8,\n",
    "    'trial_id': 1,\n",
    "    'ckpt' : 200, #50\n",
    "    'car_model': None\n",
    "}\n",
    "\n",
    "args = Namespace(**args)"
   ]
  },
  {
   "cell_type": "code",
   "execution_count": 20,
   "id": "942c1c1d-1e41-4f0c-ab9a-9f52ddfad2f0",
   "metadata": {},
   "outputs": [
    {
     "data": {
      "text/plain": [
       "['../save/SupCon.resnet18.ce1_lr0.05_0.01_bs512_200epoch_temp0.07_052122_214019_cosine_warm',\n",
       " '../save/SupCon.resnet18.ce2_lr0.05_0.01_bs512_200epoch_temp0.07_052322_102305_cosine_warm',\n",
       " '../save/SupCon.resnet18.ce3_lr0.05_0.01_bs512_200epoch_temp0.07_052322_102250_cosine_warm',\n",
       " '../save/SupCon.resnet18.ce4_lr0.05_0.01_bs512_200epoch_temp0.07_052322_102242_cosine_warm',\n",
       " '../save/SupCon.resnet18.ce5_lr0.05_0.01_bs512_200epoch_temp0.07_052322_102334_cosine_warm']"
      ]
     },
     "execution_count": 20,
     "metadata": {},
     "output_type": "execute_result"
    }
   ],
   "source": [
    "bs = 512\n",
    "pretrained_paths = sorted(glob.glob(f'../save/SupCon.resnet18*_bs{bs}*'))\n",
    "# pretrained_paths = sorted(glob.glob('../save/smallresnet18.ce?_*_lr0.001_*'))\n",
    "\n",
    "pretrained_paths"
   ]
  },
  {
   "cell_type": "code",
   "execution_count": 21,
   "id": "2d414d56-4ccf-464d-b226-46bd210a2890",
   "metadata": {
    "tags": []
   },
   "outputs": [
    {
     "name": "stdout",
     "output_type": "stream",
     "text": [
      "Loading:  SupConResNet\n",
      "Loading:  SupConResNet\n",
      "Loading:  SupConResNet\n",
      "Loading:  SupConResNet\n",
      "Loading:  SupConResNet\n",
      "Loading:  LinearClassifier\n",
      "Loading:  LinearClassifier\n",
      "Loading:  LinearClassifier\n",
      "Loading:  LinearClassifier\n",
      "Loading:  LinearClassifier\n"
     ]
    },
    {
     "data": {
      "application/vnd.jupyter.widget-view+json": {
       "model_id": "7d56f62e1ccf4cf8a61ea88dafa9d1bd",
       "version_major": 2,
       "version_minor": 0
      },
      "text/plain": [
       "  0%|          | 0/648 [00:00<?, ?it/s]"
      ]
     },
     "metadata": {},
     "output_type": "display_data"
    },
    {
     "data": {
      "application/vnd.jupyter.widget-view+json": {
       "model_id": "2978529c328b47b6a9507686d327ab7a",
       "version_major": 2,
       "version_minor": 0
      },
      "text/plain": [
       "  0%|          | 0/648 [00:01<?, ?it/s]"
      ]
     },
     "metadata": {},
     "output_type": "display_data"
    },
    {
     "data": {
      "application/vnd.jupyter.widget-view+json": {
       "model_id": "6eb9cd04e9ee4d188869b2fab667259a",
       "version_major": 2,
       "version_minor": 0
      },
      "text/plain": [
       "  0%|          | 0/648 [00:00<?, ?it/s]"
      ]
     },
     "metadata": {},
     "output_type": "display_data"
    },
    {
     "data": {
      "application/vnd.jupyter.widget-view+json": {
       "model_id": "e6b0a060126946ca8d3f8d2015c5150e",
       "version_major": 2,
       "version_minor": 0
      },
      "text/plain": [
       "  0%|          | 0/648 [00:01<?, ?it/s]"
      ]
     },
     "metadata": {},
     "output_type": "display_data"
    },
    {
     "data": {
      "application/vnd.jupyter.widget-view+json": {
       "model_id": "4787338d64564732b5d6008b3745a9a5",
       "version_major": 2,
       "version_minor": 0
      },
      "text/plain": [
       "  0%|          | 0/648 [00:01<?, ?it/s]"
      ]
     },
     "metadata": {},
     "output_type": "display_data"
    },
    {
     "name": "stdout",
     "output_type": "stream",
     "text": [
      "['0.0015', '0.0092', '0.0310', '0.0687', '0.0628']\n",
      "['1.0000', '0.9999', '0.9997', '0.9993', '0.9994']\n",
      "['0.9997', '1.0000', '1.0000', '0.9999', '1.0000']\n",
      "['0.9998', '1.0000', '0.9998', '0.9996', '0.9997']\n",
      "['0.0010', '0.0046', '0.0504', '0.0528', '0.0483']\n",
      "['1.0000', '1.0000', '0.9995', '0.9995', '0.9995']\n",
      "['0.9997', '1.0000', '1.0000', '1.0000', '1.0000']\n",
      "['0.9999', '1.0000', '0.9997', '0.9997', '0.9997']\n",
      "['0.0000', '0.0046', '0.0504', '0.0581', '0.0531']\n",
      "['1.0000', '1.0000', '0.9995', '0.9994', '0.9995']\n",
      "['0.9997', '1.0000', '1.0000', '1.0000', '1.0000']\n",
      "['0.9999', '1.0000', '0.9997', '0.9997', '0.9997']\n",
      "['0.0029', '0.0138', '0.0349', '0.0449', '0.0628']\n",
      "['1.0000', '0.9999', '0.9997', '0.9996', '0.9994']\n",
      "['0.9997', '1.0000', '1.0000', '0.9998', '1.0000']\n",
      "['0.9999', '0.9999', '0.9998', '0.9997', '0.9997']\n",
      "['0.0010', '0.0184', '0.0310', '0.0502', '0.0580']\n",
      "['1.0000', '0.9998', '0.9997', '0.9995', '0.9994']\n",
      "['0.9997', '1.0000', '1.0000', '1.0000', '1.0000']\n",
      "['0.9999', '0.9999', '0.9998', '0.9997', '0.9997']\n"
     ]
    }
   ],
   "source": [
    "num_cpu = multiprocessing.cpu_count()\n",
    "workers = max(num_cpu, len(pretrained_paths))\n",
    "\n",
    "with futures.ProcessPoolExecutor(workers) as executor:\n",
    "    to_do = []\n",
    "    for path in pretrained_paths:\n",
    "        args.trial_id = path.split('_')[0][-1]\n",
    "        args.pretrained_path = f'{path}/models/'\n",
    "        future = executor.submit(test, copy.deepcopy(args), \n",
    "                                 {'verbose': False, 'is_cuda': True})\n",
    "        to_do.append(future)\n",
    "        \n",
    "    \n",
    "    total_results = {}\n",
    "    for future in futures.as_completed(to_do):\n",
    "        try:\n",
    "            results = future.result()\n",
    "            for k, v in results.items():\n",
    "                total_results.setdefault(k, [])\n",
    "                total_results[k].append(v)\n",
    "        except Exception as error:\n",
    "            print('An exception occurred: {}'.format(error))"
   ]
  },
  {
   "cell_type": "code",
   "execution_count": 22,
   "id": "d4ccb675-670d-4818-83d7-98a9b4cb4b79",
   "metadata": {},
   "outputs": [
    {
     "name": "stdout",
     "output_type": "stream",
     "text": [
      "Final results\n",
      "fnr ['0.0013', '0.0101', '0.0395', '0.0549', '0.0570']\n",
      "rec ['1.0000', '0.9999', '0.9996', '0.9995', '0.9994']\n",
      "pre ['0.9997', '1.0000', '1.0000', '0.9999', '1.0000']\n",
      "f1 ['0.9999', '0.9999', '0.9998', '0.9997', '0.9997']\n"
     ]
    }
   ],
   "source": [
    "print('Final results')\n",
    "total_results = {k: np.stack(v, axis=0) for k, v in total_results.items()}\n",
    "for k, v in total_results.items():\n",
    "    print(k, list(\"{0:0.4f}\".format(i) for i in v.mean(axis=0)))"
   ]
  },
  {
   "cell_type": "code",
   "execution_count": 18,
   "id": "a629379c-1356-4130-bb51-4ba70ba6b9a8",
   "metadata": {},
   "outputs": [],
   "source": [
    "class NumpyEncoder(json.JSONEncoder):\n",
    "    def default(self, obj):\n",
    "        if isinstance(obj, np.ndarray):\n",
    "            return obj.tolist()\n",
    "        return json.JSONEncoder.default(self, obj)"
   ]
  },
  {
   "cell_type": "code",
   "execution_count": 19,
   "id": "92d467bf-3823-40ee-832f-fa9278b54f57",
   "metadata": {
    "tags": []
   },
   "outputs": [],
   "source": [
    "file = f'small_{args.pretrained_model}{bs}.json'\n",
    "with open(f'../reports/{file}', 'w') as convert_file:\n",
    "     convert_file.write(json.dumps(total_results, cls=NumpyEncoder))"
   ]
  }
 ],
 "metadata": {
  "kernelspec": {
   "display_name": "Python [conda env:torch] *",
   "language": "python",
   "name": "conda-env-torch-py"
  },
  "language_info": {
   "codemirror_mode": {
    "name": "ipython",
    "version": 3
   },
   "file_extension": ".py",
   "mimetype": "text/x-python",
   "name": "python",
   "nbconvert_exporter": "python",
   "pygments_lexer": "ipython3",
   "version": "3.7.10"
  }
 },
 "nbformat": 4,
 "nbformat_minor": 5
}
